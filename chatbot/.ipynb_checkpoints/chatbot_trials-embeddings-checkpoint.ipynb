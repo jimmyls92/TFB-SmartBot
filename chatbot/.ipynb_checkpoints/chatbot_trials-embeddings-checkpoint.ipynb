{
 "cells": [
  {
   "cell_type": "markdown",
   "metadata": {},
   "source": [
    "### Chatbot"
   ]
  },
  {
   "cell_type": "code",
   "execution_count": 84,
   "metadata": {},
   "outputs": [],
   "source": [
    "import random \n",
    "\n",
    "import joblib\n",
    "\n",
    "import sys\n",
    "import os\n",
    "\n",
    "\n",
    "import random\n",
    "random.seed(42)\n",
    "import numpy as np\n",
    "import pandas as pd\n",
    "import matplotlib.pyplot as plot\n",
    "import sklearn\n",
    "from sklearn.model_selection import train_test_split\n",
    "from sklearn.feature_selection import chi2\n",
    "from sklearn.metrics import accuracy_score, confusion_matrix, classification_report, roc_curve, precision_recall_curve\n",
    "\n",
    "import matplotlib.pyplot as plt\n",
    "\n",
    "import keras\n",
    "import tensorflow as tf\n",
    "from tensorflow.keras.models import Sequential\n",
    "from tensorflow.keras import layers, Sequential\n",
    "from tensorflow.keras.layers import Input, Dense, Activation, ZeroPadding2D, BatchNormalization, Flatten, Conv2D, concatenate, Dropout\n",
    "from tensorflow.keras.models import Model\n",
    "\n",
    "import scipy"
   ]
  },
  {
   "cell_type": "code",
   "execution_count": 85,
   "metadata": {},
   "outputs": [],
   "source": [
    "df = pd.read_excel(r\"database_intents.xlsx\")"
   ]
  },
  {
   "cell_type": "code",
   "execution_count": 111,
   "metadata": {},
   "outputs": [],
   "source": [
    "class_names = df['Intent type'].unique()\n",
    "# Usar get_dummies en vez de las 3 funciones\n",
    "df_oh = pd.concat([df, pd.get_dummies(df['Intent type'])], axis = 1)\n",
    "df_oh = df_oh[['Intent type', 'Sentence', 'Greeting', 'Search', 'Suggestions', 'Farewell',\n",
    "      'Options', 'Headers']]\n",
    "\n",
    "df_train, df_test = train_test_split(df_oh, train_size = 0.7, test_size = 0.3, random_state = 42,\n",
    "                                    shuffle = True, stratify = df_oh['Intent type'])"
   ]
  },
  {
   "cell_type": "code",
   "execution_count": 228,
   "metadata": {},
   "outputs": [],
   "source": [
    "from tensorflow.keras.layers import TextVectorization\n",
    "\n",
    "vectorizer = TextVectorization(max_tokens = 2000, output_mode='tf-idf')\n",
    "text_ds = tf.data.Dataset.from_tensor_slices(df_train['Sentence']).batch(32)\n",
    "vectorizer.adapt(text_ds)"
   ]
  },
  {
   "cell_type": "code",
   "execution_count": 229,
   "metadata": {},
   "outputs": [],
   "source": [
    "import pickle\n",
    "pickle.dump({'config': vectorizer.get_config(),\n",
    "             'weights': vectorizer.get_weights()}\n",
    "            , open(\"tv_layer.pkl\", \"wb\"))"
   ]
  },
  {
   "cell_type": "code",
   "execution_count": 230,
   "metadata": {},
   "outputs": [],
   "source": [
    "from_disk = pickle.load(open(\"tv_layer.pkl\", \"rb\"))\n",
    "new_v = TextVectorization.from_config(from_disk['config'])\n",
    "new_v.adapt(tf.data.Dataset.from_tensor_slices([\"xyz\"]))\n",
    "new_v.set_weights(from_disk['weights'])"
   ]
  },
  {
   "cell_type": "code",
   "execution_count": 238,
   "metadata": {},
   "outputs": [],
   "source": [
    "voc = vectorizer.get_vocabulary()\n",
    "word_index = dict(zip(voc, range(len(voc))))"
   ]
  },
  {
   "cell_type": "code",
   "execution_count": 239,
   "metadata": {},
   "outputs": [
    {
     "name": "stdout",
     "output_type": "stream",
     "text": [
      "Found 400000 word vectors.\n"
     ]
    }
   ],
   "source": [
    "embeddings_index = {}\n",
    "with open('glove.6B.50d.txt', 'r', encoding='utf-8') as f:\n",
    "    for line in f:\n",
    "        word, coefs = line.split(maxsplit=1)\n",
    "        coefs = np.fromstring(coefs, \"f\", sep=\" \")\n",
    "        embeddings_index[word] = coefs\n",
    "\n",
    "print(\"Found %s word vectors.\" % len(embeddings_index))"
   ]
  },
  {
   "cell_type": "code",
   "execution_count": 240,
   "metadata": {},
   "outputs": [
    {
     "name": "stdout",
     "output_type": "stream",
     "text": [
      "Converted 88 words (9 misses)\n"
     ]
    }
   ],
   "source": [
    "num_tokens = len(voc) + 2\n",
    "embedding_dim = 50\n",
    "hits = 0\n",
    "misses = 0\n",
    "\n",
    "# Prepare embedding matrix\n",
    "embedding_matrix = np.zeros((num_tokens, embedding_dim))\n",
    "for word, i in word_index.items():\n",
    "    embedding_vector = embeddings_index.get(word)\n",
    "    if embedding_vector is not None:\n",
    "        # Words not found in embedding index will be all-zeros.\n",
    "        # This includes the representation for \"padding\" and \"OOV\"\n",
    "        embedding_matrix[i] = embedding_vector\n",
    "        hits += 1\n",
    "    else:\n",
    "        misses += 1\n",
    "print(\"Converted %d words (%d misses)\" % (hits, misses))"
   ]
  },
  {
   "cell_type": "code",
   "execution_count": 241,
   "metadata": {},
   "outputs": [],
   "source": [
    "from tensorflow.keras.layers import Embedding\n",
    "\n",
    "embedding_layer = Embedding(\n",
    "    num_tokens,\n",
    "    embedding_dim,\n",
    "    embeddings_initializer=keras.initializers.Constant(embedding_matrix),\n",
    "    trainable=False,\n",
    ")"
   ]
  },
  {
   "cell_type": "code",
   "execution_count": 246,
   "metadata": {},
   "outputs": [
    {
     "name": "stdout",
     "output_type": "stream",
     "text": [
      "Model: \"model_13\"\n",
      "_________________________________________________________________\n",
      "Layer (type)                 Output Shape              Param #   \n",
      "=================================================================\n",
      "input_16 (InputLayer)        [(None, None)]            0         \n",
      "_________________________________________________________________\n",
      "embedding_7 (Embedding)      (None, None, 50)          4950      \n",
      "_________________________________________________________________\n",
      "conv1d_33 (Conv1D)           (None, None, 128)         32128     \n",
      "_________________________________________________________________\n",
      "max_pooling1d_22 (MaxPooling (None, None, 128)         0         \n",
      "_________________________________________________________________\n",
      "conv1d_34 (Conv1D)           (None, None, 128)         82048     \n",
      "_________________________________________________________________\n",
      "max_pooling1d_23 (MaxPooling (None, None, 128)         0         \n",
      "_________________________________________________________________\n",
      "conv1d_35 (Conv1D)           (None, None, 128)         82048     \n",
      "_________________________________________________________________\n",
      "global_max_pooling1d_11 (Glo (None, 128)               0         \n",
      "_________________________________________________________________\n",
      "dense_22 (Dense)             (None, 128)               16512     \n",
      "_________________________________________________________________\n",
      "dropout_11 (Dropout)         (None, 128)               0         \n",
      "_________________________________________________________________\n",
      "dense_23 (Dense)             (None, 6)                 774       \n",
      "=================================================================\n",
      "Total params: 218,460\n",
      "Trainable params: 213,510\n",
      "Non-trainable params: 4,950\n",
      "_________________________________________________________________\n"
     ]
    }
   ],
   "source": [
    "from tensorflow.keras import layers\n",
    "\n",
    "int_sequences_input = keras.Input(shape=(None,), dtype=\"int64\")\n",
    "embedded_sequences = embedding_layer(int_sequences_input)\n",
    "x = layers.Conv1D(128, 5, activation=\"relu\")(embedded_sequences)\n",
    "x = layers.MaxPooling1D(2)(x)\n",
    "x = layers.Conv1D(128, 5, activation=\"relu\")(x)\n",
    "x = layers.MaxPooling1D(2)(x)\n",
    "x = layers.Conv1D(128, 5, activation=\"relu\")(x)\n",
    "x = layers.GlobalMaxPooling1D()(x)\n",
    "x = layers.Dense(128, activation=\"relu\")(x)\n",
    "x = layers.Dropout(0.5)(x)\n",
    "preds = layers.Dense(len(class_names), activation=\"softmax\")(x)\n",
    "model = keras.Model(int_sequences_input, preds)\n",
    "model.summary()"
   ]
  },
  {
   "cell_type": "code",
   "execution_count": 247,
   "metadata": {},
   "outputs": [],
   "source": [
    "X_train = vectorizer(np.array([[s] for s in df_train['Sentence']])).numpy()\n",
    "X_test = vectorizer(np.array([[s] for s in df_test['Sentence']])).numpy()\n",
    "\n",
    "y_train = np.array(df_train.iloc[:, 2:])\n",
    "y_test = np.array(df_test.iloc[:, 2:])"
   ]
  },
  {
   "cell_type": "code",
   "execution_count": 248,
   "metadata": {},
   "outputs": [
    {
     "name": "stdout",
     "output_type": "stream",
     "text": [
      "Epoch 1/30\n",
      "1/1 [==============================] - 1s 734ms/step - loss: 1.8046 - acc: 0.1205 - val_loss: 1.4628 - val_acc: 0.4167\n",
      "Epoch 2/30\n",
      "1/1 [==============================] - 0s 48ms/step - loss: 1.5293 - acc: 0.3855 - val_loss: 1.2925 - val_acc: 0.3611\n",
      "Epoch 3/30\n",
      "1/1 [==============================] - 0s 50ms/step - loss: 1.4079 - acc: 0.3614 - val_loss: 1.3304 - val_acc: 0.4167\n",
      "Epoch 4/30\n",
      "1/1 [==============================] - 0s 49ms/step - loss: 1.3635 - acc: 0.5542 - val_loss: 1.2737 - val_acc: 0.3889\n",
      "Epoch 5/30\n",
      "1/1 [==============================] - 0s 48ms/step - loss: 1.3219 - acc: 0.4458 - val_loss: 1.4164 - val_acc: 0.4167\n",
      "Epoch 6/30\n",
      "1/1 [==============================] - 0s 46ms/step - loss: 1.3660 - acc: 0.4337 - val_loss: 1.1802 - val_acc: 0.4722\n",
      "Epoch 7/30\n",
      "1/1 [==============================] - 0s 49ms/step - loss: 1.2145 - acc: 0.5663 - val_loss: 1.1626 - val_acc: 0.6389\n",
      "Epoch 8/30\n",
      "1/1 [==============================] - 0s 47ms/step - loss: 1.0484 - acc: 0.6867 - val_loss: 1.0372 - val_acc: 0.5556\n",
      "Epoch 9/30\n",
      "1/1 [==============================] - 0s 50ms/step - loss: 0.9886 - acc: 0.6265 - val_loss: 1.2047 - val_acc: 0.4444\n",
      "Epoch 10/30\n",
      "1/1 [==============================] - 0s 49ms/step - loss: 1.0609 - acc: 0.6265 - val_loss: 1.0869 - val_acc: 0.5278\n",
      "Epoch 11/30\n",
      "1/1 [==============================] - 0s 51ms/step - loss: 1.0077 - acc: 0.6265 - val_loss: 0.9892 - val_acc: 0.6389\n",
      "Epoch 12/30\n",
      "1/1 [==============================] - 0s 52ms/step - loss: 0.8655 - acc: 0.7590 - val_loss: 1.0141 - val_acc: 0.6111\n",
      "Epoch 13/30\n",
      "1/1 [==============================] - 0s 52ms/step - loss: 0.8602 - acc: 0.7229 - val_loss: 0.8917 - val_acc: 0.6944\n",
      "Epoch 14/30\n",
      "1/1 [==============================] - 0s 50ms/step - loss: 0.7580 - acc: 0.7831 - val_loss: 0.8405 - val_acc: 0.6944\n",
      "Epoch 15/30\n",
      "1/1 [==============================] - 0s 56ms/step - loss: 0.6105 - acc: 0.8434 - val_loss: 0.7501 - val_acc: 0.7222\n",
      "Epoch 16/30\n",
      "1/1 [==============================] - 0s 55ms/step - loss: 0.5614 - acc: 0.8675 - val_loss: 0.8150 - val_acc: 0.7222\n",
      "Epoch 17/30\n",
      "1/1 [==============================] - 0s 56ms/step - loss: 0.5447 - acc: 0.8313 - val_loss: 0.8630 - val_acc: 0.6389\n",
      "Epoch 18/30\n",
      "1/1 [==============================] - 0s 54ms/step - loss: 0.7122 - acc: 0.7349 - val_loss: 1.3186 - val_acc: 0.5278\n",
      "Epoch 19/30\n",
      "1/1 [==============================] - 0s 51ms/step - loss: 0.9428 - acc: 0.6024 - val_loss: 0.8086 - val_acc: 0.6389\n",
      "Epoch 20/30\n",
      "1/1 [==============================] - 0s 51ms/step - loss: 0.6545 - acc: 0.7711 - val_loss: 0.6804 - val_acc: 0.7778\n",
      "Epoch 21/30\n",
      "1/1 [==============================] - 0s 47ms/step - loss: 0.4939 - acc: 0.8554 - val_loss: 0.6424 - val_acc: 0.7778\n",
      "Epoch 22/30\n",
      "1/1 [==============================] - 0s 46ms/step - loss: 0.3710 - acc: 0.9277 - val_loss: 0.6302 - val_acc: 0.7778\n",
      "Epoch 23/30\n",
      "1/1 [==============================] - 0s 47ms/step - loss: 0.3174 - acc: 0.9157 - val_loss: 0.6072 - val_acc: 0.7778\n",
      "Epoch 24/30\n",
      "1/1 [==============================] - 0s 45ms/step - loss: 0.2964 - acc: 0.9157 - val_loss: 0.5985 - val_acc: 0.7500\n",
      "Epoch 25/30\n",
      "1/1 [==============================] - 0s 46ms/step - loss: 0.2354 - acc: 0.9518 - val_loss: 0.5815 - val_acc: 0.8056\n",
      "Epoch 26/30\n",
      "1/1 [==============================] - 0s 46ms/step - loss: 0.2221 - acc: 0.9759 - val_loss: 0.5985 - val_acc: 0.7500\n",
      "Epoch 27/30\n",
      "1/1 [==============================] - 0s 46ms/step - loss: 0.2472 - acc: 0.9277 - val_loss: 0.8595 - val_acc: 0.6111\n",
      "Epoch 28/30\n",
      "1/1 [==============================] - 0s 47ms/step - loss: 0.4905 - acc: 0.8193 - val_loss: 1.0325 - val_acc: 0.6389\n",
      "Epoch 29/30\n",
      "1/1 [==============================] - 0s 46ms/step - loss: 0.7189 - acc: 0.7349 - val_loss: 0.8607 - val_acc: 0.6667\n",
      "Epoch 30/30\n",
      "1/1 [==============================] - 0s 49ms/step - loss: 0.3391 - acc: 0.8916 - val_loss: 0.5475 - val_acc: 0.8056\n"
     ]
    },
    {
     "data": {
      "text/plain": [
       "<keras.callbacks.History at 0x11f88010cc0>"
      ]
     },
     "execution_count": 248,
     "metadata": {},
     "output_type": "execute_result"
    }
   ],
   "source": [
    "model.compile(\n",
    "    loss = \"categorical_crossentropy\", optimizer = \"rmsprop\", metrics = [\"acc\"]\n",
    ")\n",
    "model.fit(X_train, y_train, batch_size = 128, epochs = 30, validation_data=(X_test, y_test))"
   ]
  },
  {
   "cell_type": "code",
   "execution_count": 249,
   "metadata": {},
   "outputs": [],
   "source": [
    "model.save('embbedings.h5')"
   ]
  },
  {
   "cell_type": "code",
   "execution_count": 250,
   "metadata": {},
   "outputs": [],
   "source": [
    "model = keras.models.load_model('embbedings.h5')"
   ]
  },
  {
   "cell_type": "markdown",
   "metadata": {},
   "source": [
    "### Pruebas"
   ]
  },
  {
   "cell_type": "code",
   "execution_count": 251,
   "metadata": {},
   "outputs": [
    {
     "data": {
      "text/plain": [
       "'Search'"
      ]
     },
     "execution_count": 251,
     "metadata": {},
     "output_type": "execute_result"
    }
   ],
   "source": [
    "string_input = keras.Input(shape=(1,), dtype=\"string\")\n",
    "x = new_v(string_input)\n",
    "preds = model(x)\n",
    "end_to_end_model = keras.Model(string_input, preds)\n",
    "\n",
    "probabilities = end_to_end_model.predict(\n",
    "    [[\"I want to get information about Barcelona\"]]\n",
    ")\n",
    "\n",
    "class_names[np.argmax(probabilities[0])]"
   ]
  },
  {
   "cell_type": "code",
   "execution_count": 252,
   "metadata": {
    "scrolled": true
   },
   "outputs": [
    {
     "data": {
      "text/plain": [
       "'Greeting'"
      ]
     },
     "execution_count": 252,
     "metadata": {},
     "output_type": "execute_result"
    }
   ],
   "source": [
    "probabilities_2 = end_to_end_model.predict(\n",
    "    [[\"Hello, how are you?\"]]\n",
    ")\n",
    "class_names[np.argmax(probabilities_2[0])]"
   ]
  },
  {
   "cell_type": "code",
   "execution_count": 253,
   "metadata": {},
   "outputs": [
    {
     "data": {
      "text/plain": [
       "array([[0.00394532, 0.764308  , 0.18421847, 0.01112663, 0.01940633,\n",
       "        0.01699523]], dtype=float32)"
      ]
     },
     "execution_count": 253,
     "metadata": {},
     "output_type": "execute_result"
    }
   ],
   "source": [
    "probabilities"
   ]
  },
  {
   "cell_type": "code",
   "execution_count": 254,
   "metadata": {},
   "outputs": [
    {
     "data": {
      "text/plain": [
       "array([[0.82958037, 0.06267737, 0.05873773, 0.01296815, 0.02891696,\n",
       "        0.00711944]], dtype=float32)"
      ]
     },
     "execution_count": 254,
     "metadata": {},
     "output_type": "execute_result"
    }
   ],
   "source": [
    "probabilities_2"
   ]
  },
  {
   "cell_type": "markdown",
   "metadata": {},
   "source": [
    "### No lo he probado en el chatbot, para hacer pruebas usar el módulo de arriba"
   ]
  },
  {
   "cell_type": "markdown",
   "metadata": {},
   "source": [
    "# CHATBOT TEST"
   ]
  },
  {
   "cell_type": "code",
   "execution_count": 83,
   "metadata": {},
   "outputs": [],
   "source": [
    "def chatbot():\n",
    "    \n",
    "    input_text = input()\n",
    "    \n",
    "    test = pd.DataFrame(data = {'Sentence': [input_text]})\n",
    "    df_test_proc, test_proc = processing(test, cv = cv)\n",
    "    scipy.sparse.csr_matrix.sort_indices(test_proc)\n",
    "    \n",
    "    gret_prob = mlp_greeting.predict(test_proc)\n",
    "    search_prob = mlp_search.predict(test_proc)\n",
    "    sugg_prob = mlp_suggestion.predict(test_proc)\n",
    "    farewell_prob = mlp_farewell.predict(test_proc)\n",
    "    \n",
    "    probs = [gret_prob, search_prob, sugg_prob, farewell_prob]\n",
    "    print(probs)\n",
    "    idx = np.argmax(probs)\n",
    "    \n",
    "    if idx == 0:\n",
    "        print(\"Esto es un saludo\")\n",
    "    elif idx == 1:\n",
    "        print(\"Esto es una búsqueda\")\n",
    "    elif idx == 2:\n",
    "        print(\"Esto es una sugerencia\")\n",
    "    else:\n",
    "        print(\"Esto es una despedida\")\n",
    "        \n",
    "#     print('¿Hemos acertado?')\n",
    "    \n",
    "#     respuesta = input()\n",
    "#     if (respuesta == 'No' or respuesta == 'no'):\n",
    "#         probs = np.delete(probs, idx)\n",
    "#         idx_2 = np.argmax(probs)\n",
    "        \n",
    "#         if idx == 0:\n",
    "#             if idx_2 == 0:\n",
    "#                 print(\"Esto es una búsqueda\")\n",
    "#             else:\n",
    "#                 print(\"Esto es una sugerencia\")\n",
    "#         elif idx == 1:\n",
    "#             if idx_2 == 0:\n",
    "#                 print(\"Esto es un saludo\")\n",
    "#             else:\n",
    "#                 print(\"Esto es una sugerencia\")\n",
    "#         else:\n",
    "#             if idx_2 == 0:\n",
    "#                 print(\"Esto es un saludo\")\n",
    "#             else:\n",
    "#                 print(\"Esto es una búsqueda\")\n",
    "#     else:\n",
    "#         print('¡Genial! ¡Hemos acertado!')\n",
    "    "
   ]
  },
  {
   "cell_type": "code",
   "execution_count": 96,
   "metadata": {
    "scrolled": true
   },
   "outputs": [
    {
     "name": "stdout",
     "output_type": "stream",
     "text": [
      "hi\n",
      "[array([[0.8040894]], dtype=float32), array([[0.00038779]], dtype=float32), array([[3.612887e-05]], dtype=float32), array([[0.00043699]], dtype=float32)]\n",
      "Esto es un saludo\n"
     ]
    }
   ],
   "source": [
    "chatbot()"
   ]
  },
  {
   "cell_type": "markdown",
   "metadata": {},
   "source": [
    "* Opciones\n",
    " * Mostrar un comando *!options* que te de las opciones para hacer.\n",
    " * Detectar un intent\n",
    " * Mostrarlo al inicio\n",
    "\n",
    "\n",
    "* Headers\n",
    " * Dar las opciones una vez se detecta intent de búsqueda búsqueda\n",
    "   * *What is data science?* Y mostrarle los heades para qué elija qué queire saber \n",
    " * Intent nuevo de header"
   ]
  },
  {
   "cell_type": "code",
   "execution_count": null,
   "metadata": {},
   "outputs": [],
   "source": [
    "chatbot()"
   ]
  },
  {
   "cell_type": "code",
   "execution_count": null,
   "metadata": {},
   "outputs": [],
   "source": [
    "def Intent_detection_function(keyboard):\n",
    "    gret_prob = mlp_greeting.predict_proba(test_proc)\n",
    "    search_prob = mlp_search.predict_proba(test_proc)\n",
    "    sugg_prob = mlp_suggestion.predict_proba(test_proc)\n",
    "    farewell_prob = mlp_farewell.predict_proba(test_proc)\n",
    "    cv = joblib.load(\"vectorizer.pkl\")\n",
    "\n",
    "\n",
    "    input_text = pd.DataFrame(data={'Sentence': [keyboard]})\n",
    "    _, test_proc = cv.transform(input_text['Sentence'])\n",
    "    #df_test_proc, test_proc = processing(test, cv=cv)\n",
    "\n",
    "    test_proc = test_proc.toarray()\n",
    "\n",
    "    gret_prob = mlp_greeting.predict(test_proc)\n",
    "\n",
    "    search_prob = mlp_search.predict(test_proc)\n",
    "    sugg_prob = mlp_suggestion.predict(test_proc)\n",
    "    fare_prob = mlp_farewell.predict(test_proc)\n",
    "\n",
    "\n",
    "    probs = [gret_prob, search_prob, sugg_prob, fare_prob]\n",
    "    print(probs)\n",
    "    idx = np.argmax(probs)\n",
    "\n",
    "    if idx == 0:\n",
    "        intent = \"Greeting\"\n",
    "        keyword = None\n",
    "    elif idx == 1:\n",
    "        intent = \"Search\"\n",
    "        keyword = getEntities(keyboard)\n",
    "    elif idx == 2:\n",
    "        intent = \"Suggestions\"\n",
    "        keyword = getEntities(keyboard)\n",
    "    elif idx == 3:\n",
    "        intent = \"Farewell\"\n",
    "        keyword = None\n",
    "\n",
    "    return intent, keyword"
   ]
  },
  {
   "cell_type": "code",
   "execution_count": null,
   "metadata": {},
   "outputs": [],
   "source": [
    "Intent_detection_function()"
   ]
  }
 ],
 "metadata": {
  "kernelspec": {
   "display_name": "Python 3",
   "language": "python",
   "name": "python3"
  },
  "language_info": {
   "codemirror_mode": {
    "name": "ipython",
    "version": 3
   },
   "file_extension": ".py",
   "mimetype": "text/x-python",
   "name": "python",
   "nbconvert_exporter": "python",
   "pygments_lexer": "ipython3",
   "version": "3.6.5"
  }
 },
 "nbformat": 4,
 "nbformat_minor": 2
}
