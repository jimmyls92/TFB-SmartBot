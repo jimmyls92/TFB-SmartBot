{
 "cells": [
  {
   "cell_type": "markdown",
   "metadata": {},
   "source": [
    "### Chatbot"
   ]
  },
  {
   "cell_type": "code",
   "execution_count": 1,
   "metadata": {},
   "outputs": [],
   "source": [
    "import random \n",
    "\n",
    "import joblib\n",
    "\n",
    "import sys\n",
    "import os\n",
    "\n",
    "\n",
    "import random\n",
    "random.seed(42)\n",
    "import numpy as np\n",
    "import pandas as pd\n",
    "import matplotlib.pyplot as plot\n",
    "import sklearn\n",
    "from sklearn.model_selection import train_test_split\n",
    "from sklearn.pipeline import Pipeline\n",
    "from sklearn.feature_extraction.text import CountVectorizer, TfidfVectorizer\n",
    "from sklearn.feature_selection import chi2\n",
    "from sklearn.linear_model import LogisticRegression, LogisticRegressionCV\n",
    "from sklearn.model_selection import TimeSeriesSplit, GridSearchCV\n",
    "from sklearn.metrics import accuracy_score, confusion_matrix, classification_report, roc_curve, precision_recall_curve\n",
    "\n",
    "import matplotlib.pyplot as plt\n",
    "\n",
    "import keras\n",
    "import tensorflow as tf\n",
    "from tensorflow.keras.models import Sequential\n",
    "from tensorflow.keras import layers, Sequential\n",
    "from tensorflow.keras.layers import Input, Dense, Activation, ZeroPadding2D, BatchNormalization, Flatten, Conv2D, concatenate, Dropout\n",
    "from tensorflow.keras.models import Model\n",
    "\n",
    "import scipy"
   ]
  },
  {
   "cell_type": "code",
   "execution_count": 5,
   "metadata": {},
   "outputs": [],
   "source": [
    "df = pd.read_excel(r\"database_intents.xlsx\")"
   ]
  },
  {
   "cell_type": "code",
   "execution_count": 22,
   "metadata": {},
   "outputs": [
    {
     "data": {
      "text/plain": [
       "Index(['Intent type', 'Sentence'], dtype='object')"
      ]
     },
     "execution_count": 22,
     "metadata": {},
     "output_type": "execute_result"
    }
   ],
   "source": [
    "df.columns"
   ]
  },
  {
   "cell_type": "code",
   "execution_count": 26,
   "metadata": {},
   "outputs": [],
   "source": [
    "class_names = df['Intent type'].unique()"
   ]
  },
  {
   "cell_type": "code",
   "execution_count": 6,
   "metadata": {},
   "outputs": [],
   "source": [
    "# Usar get_dummies en vez de las 3 funciones\n",
    "df_oh = pd.concat([df, pd.get_dummies(df['Intent type'])], axis = 1)"
   ]
  },
  {
   "cell_type": "code",
   "execution_count": 7,
   "metadata": {},
   "outputs": [],
   "source": [
    "df_train, df_test = train_test_split(df_oh, train_size = 0.7, test_size = 0.3, random_state = 42,\n",
    "                                    shuffle = True, stratify = df_oh['Intent type'])"
   ]
  },
  {
   "cell_type": "code",
   "execution_count": 9,
   "metadata": {},
   "outputs": [],
   "source": [
    "from tensorflow.keras.layers import TextVectorization\n",
    "\n",
    "vectorizer = TextVectorization(max_tokens=20000, output_sequence_length=200)\n",
    "text_ds = tf.data.Dataset.from_tensor_slices(df_train['Sentence']).batch(128)\n",
    "vectorizer.adapt(text_ds)"
   ]
  },
  {
   "cell_type": "code",
   "execution_count": 10,
   "metadata": {},
   "outputs": [
    {
     "data": {
      "text/plain": [
       "['', '[UNK]', 'me', 'to', 'you']"
      ]
     },
     "execution_count": 10,
     "metadata": {},
     "output_type": "execute_result"
    }
   ],
   "source": [
    "vectorizer.get_vocabulary()[:5]"
   ]
  },
  {
   "cell_type": "code",
   "execution_count": 12,
   "metadata": {},
   "outputs": [],
   "source": [
    "voc = vectorizer.get_vocabulary()\n",
    "word_index = dict(zip(voc, range(len(voc))))"
   ]
  },
  {
   "cell_type": "code",
   "execution_count": 15,
   "metadata": {},
   "outputs": [
    {
     "name": "stdout",
     "output_type": "stream",
     "text": [
      "Found 400000 word vectors.\n"
     ]
    }
   ],
   "source": [
    "embeddings_index = {}\n",
    "with open('glove.6B.50d.txt', 'r', encoding='utf-8') as f:\n",
    "    for line in f:\n",
    "        word, coefs = line.split(maxsplit=1)\n",
    "        coefs = np.fromstring(coefs, \"f\", sep=\" \")\n",
    "        embeddings_index[word] = coefs\n",
    "\n",
    "print(\"Found %s word vectors.\" % len(embeddings_index))"
   ]
  },
  {
   "cell_type": "code",
   "execution_count": 17,
   "metadata": {},
   "outputs": [
    {
     "name": "stdout",
     "output_type": "stream",
     "text": [
      "Converted 146 words (13 misses)\n"
     ]
    }
   ],
   "source": [
    "num_tokens = len(voc) + 2\n",
    "embedding_dim = 50\n",
    "hits = 0\n",
    "misses = 0\n",
    "\n",
    "# Prepare embedding matrix\n",
    "embedding_matrix = np.zeros((num_tokens, embedding_dim))\n",
    "for word, i in word_index.items():\n",
    "    embedding_vector = embeddings_index.get(word)\n",
    "    if embedding_vector is not None:\n",
    "        # Words not found in embedding index will be all-zeros.\n",
    "        # This includes the representation for \"padding\" and \"OOV\"\n",
    "        embedding_matrix[i] = embedding_vector\n",
    "        hits += 1\n",
    "    else:\n",
    "        misses += 1\n",
    "print(\"Converted %d words (%d misses)\" % (hits, misses))"
   ]
  },
  {
   "cell_type": "code",
   "execution_count": 18,
   "metadata": {},
   "outputs": [],
   "source": [
    "from tensorflow.keras.layers import Embedding\n",
    "\n",
    "embedding_layer = Embedding(\n",
    "    num_tokens,\n",
    "    embedding_dim,\n",
    "    embeddings_initializer=keras.initializers.Constant(embedding_matrix),\n",
    "    trainable=False,\n",
    ")"
   ]
  },
  {
   "cell_type": "code",
   "execution_count": 28,
   "metadata": {},
   "outputs": [
    {
     "name": "stdout",
     "output_type": "stream",
     "text": [
      "Model: \"model\"\n",
      "_________________________________________________________________\n",
      "Layer (type)                 Output Shape              Param #   \n",
      "=================================================================\n",
      "input_2 (InputLayer)         [(None, None)]            0         \n",
      "_________________________________________________________________\n",
      "embedding (Embedding)        (None, None, 50)          8050      \n",
      "_________________________________________________________________\n",
      "conv1d_3 (Conv1D)            (None, None, 128)         32128     \n",
      "_________________________________________________________________\n",
      "max_pooling1d_2 (MaxPooling1 (None, None, 128)         0         \n",
      "_________________________________________________________________\n",
      "conv1d_4 (Conv1D)            (None, None, 128)         82048     \n",
      "_________________________________________________________________\n",
      "max_pooling1d_3 (MaxPooling1 (None, None, 128)         0         \n",
      "_________________________________________________________________\n",
      "conv1d_5 (Conv1D)            (None, None, 128)         82048     \n",
      "_________________________________________________________________\n",
      "global_max_pooling1d_1 (Glob (None, 128)               0         \n",
      "_________________________________________________________________\n",
      "dense_1 (Dense)              (None, 128)               16512     \n",
      "_________________________________________________________________\n",
      "dropout_1 (Dropout)          (None, 128)               0         \n",
      "_________________________________________________________________\n",
      "dense_2 (Dense)              (None, 6)                 774       \n",
      "=================================================================\n",
      "Total params: 221,560\n",
      "Trainable params: 213,510\n",
      "Non-trainable params: 8,050\n",
      "_________________________________________________________________\n"
     ]
    }
   ],
   "source": [
    "from tensorflow.keras import layers\n",
    "\n",
    "int_sequences_input = keras.Input(shape=(None,), dtype=\"int64\")\n",
    "embedded_sequences = embedding_layer(int_sequences_input)\n",
    "x = layers.Conv1D(128, 5, activation=\"relu\")(embedded_sequences)\n",
    "x = layers.MaxPooling1D(5)(x)\n",
    "x = layers.Conv1D(128, 5, activation=\"relu\")(x)\n",
    "x = layers.MaxPooling1D(5)(x)\n",
    "x = layers.Conv1D(128, 5, activation=\"relu\")(x)\n",
    "x = layers.GlobalMaxPooling1D()(x)\n",
    "x = layers.Dense(128, activation=\"relu\")(x)\n",
    "x = layers.Dropout(0.5)(x)\n",
    "preds = layers.Dense(len(class_names), activation=\"softmax\")(x)\n",
    "model = keras.Model(int_sequences_input, preds)\n",
    "model.summary()"
   ]
  },
  {
   "cell_type": "code",
   "execution_count": 36,
   "metadata": {},
   "outputs": [],
   "source": [
    "X_train = vectorizer(np.array([[s] for s in df_train['Sentence']])).numpy()\n",
    "X_test = vectorizer(np.array([[s] for s in df_test['Sentence']])).numpy()\n",
    "\n",
    "y_train = np.array(df_train.iloc[:, 2:])\n",
    "y_test = np.array(df_test.iloc[:, 2:])"
   ]
  },
  {
   "cell_type": "code",
   "execution_count": 40,
   "metadata": {},
   "outputs": [
    {
     "name": "stdout",
     "output_type": "stream",
     "text": [
      "(85, 200)\n",
      "(85, 6)\n",
      "(37, 200)\n",
      "(37, 6)\n"
     ]
    }
   ],
   "source": [
    "print(X_train.shape)\n",
    "print(y_train.shape)\n",
    "print(X_test.shape)\n",
    "print(y_test.shape)"
   ]
  },
  {
   "cell_type": "code",
   "execution_count": 43,
   "metadata": {},
   "outputs": [
    {
     "name": "stdout",
     "output_type": "stream",
     "text": [
      "Epoch 1/20\n",
      "1/1 [==============================] - 1s 719ms/step - loss: 1.8267 - acc: 0.0706 - val_loss: 1.6713 - val_acc: 0.3243\n",
      "Epoch 2/20\n",
      "1/1 [==============================] - 0s 52ms/step - loss: 1.6772 - acc: 0.3176 - val_loss: 1.5199 - val_acc: 0.3243\n",
      "Epoch 3/20\n",
      "1/1 [==============================] - 0s 48ms/step - loss: 1.5215 - acc: 0.3647 - val_loss: 1.4517 - val_acc: 0.3243\n",
      "Epoch 4/20\n",
      "1/1 [==============================] - 0s 50ms/step - loss: 1.4588 - acc: 0.3765 - val_loss: 1.4327 - val_acc: 0.5405\n",
      "Epoch 5/20\n",
      "1/1 [==============================] - 0s 51ms/step - loss: 1.3963 - acc: 0.4941 - val_loss: 1.3925 - val_acc: 0.3784\n",
      "Epoch 6/20\n",
      "1/1 [==============================] - 0s 51ms/step - loss: 1.3285 - acc: 0.3882 - val_loss: 1.4931 - val_acc: 0.4054\n",
      "Epoch 7/20\n",
      "1/1 [==============================] - 0s 53ms/step - loss: 1.4103 - acc: 0.4471 - val_loss: 1.3736 - val_acc: 0.5405\n",
      "Epoch 8/20\n",
      "1/1 [==============================] - 0s 51ms/step - loss: 1.2942 - acc: 0.5176 - val_loss: 1.3147 - val_acc: 0.4865\n",
      "Epoch 9/20\n",
      "1/1 [==============================] - 0s 51ms/step - loss: 1.1762 - acc: 0.6353 - val_loss: 1.2700 - val_acc: 0.5405\n",
      "Epoch 10/20\n",
      "1/1 [==============================] - 0s 51ms/step - loss: 1.0303 - acc: 0.6588 - val_loss: 1.2610 - val_acc: 0.5135\n",
      "Epoch 11/20\n",
      "1/1 [==============================] - 0s 55ms/step - loss: 1.0608 - acc: 0.6353 - val_loss: 1.3623 - val_acc: 0.5405\n",
      "Epoch 12/20\n",
      "1/1 [==============================] - 0s 52ms/step - loss: 1.0745 - acc: 0.5765 - val_loss: 1.2873 - val_acc: 0.5405\n",
      "Epoch 13/20\n",
      "1/1 [==============================] - 0s 52ms/step - loss: 0.9828 - acc: 0.6706 - val_loss: 1.1980 - val_acc: 0.5405\n",
      "Epoch 14/20\n",
      "1/1 [==============================] - 0s 53ms/step - loss: 0.8986 - acc: 0.6471 - val_loss: 1.1955 - val_acc: 0.5405\n",
      "Epoch 15/20\n",
      "1/1 [==============================] - 0s 52ms/step - loss: 0.8148 - acc: 0.7294 - val_loss: 1.1303 - val_acc: 0.5676\n",
      "Epoch 16/20\n",
      "1/1 [==============================] - 0s 52ms/step - loss: 0.7670 - acc: 0.7059 - val_loss: 1.2700 - val_acc: 0.5135\n",
      "Epoch 17/20\n",
      "1/1 [==============================] - 0s 51ms/step - loss: 0.7166 - acc: 0.7647 - val_loss: 1.1246 - val_acc: 0.5946\n",
      "Epoch 18/20\n",
      "1/1 [==============================] - 0s 52ms/step - loss: 0.7342 - acc: 0.7059 - val_loss: 1.2744 - val_acc: 0.5135\n",
      "Epoch 19/20\n",
      "1/1 [==============================] - 0s 50ms/step - loss: 0.6973 - acc: 0.7647 - val_loss: 1.0973 - val_acc: 0.5946\n",
      "Epoch 20/20\n",
      "1/1 [==============================] - 0s 51ms/step - loss: 0.6462 - acc: 0.7765 - val_loss: 1.2256 - val_acc: 0.5135\n"
     ]
    },
    {
     "data": {
      "text/plain": [
       "<keras.callbacks.History at 0x1a504c009b0>"
      ]
     },
     "execution_count": 43,
     "metadata": {},
     "output_type": "execute_result"
    }
   ],
   "source": [
    "model.compile(\n",
    "    loss=\"categorical_crossentropy\", optimizer=\"rmsprop\", metrics=[\"acc\"]\n",
    ")\n",
    "model.fit(X_train, y_train, batch_size=128, epochs=20, validation_data=(X_test, y_test))"
   ]
  },
  {
   "cell_type": "markdown",
   "metadata": {},
   "source": [
    "### Pruebas"
   ]
  },
  {
   "cell_type": "code",
   "execution_count": 44,
   "metadata": {},
   "outputs": [
    {
     "data": {
      "text/plain": [
       "'Search'"
      ]
     },
     "execution_count": 44,
     "metadata": {},
     "output_type": "execute_result"
    }
   ],
   "source": [
    "string_input = keras.Input(shape=(1,), dtype=\"string\")\n",
    "x = vectorizer(string_input)\n",
    "preds = model(x)\n",
    "end_to_end_model = keras.Model(string_input, preds)\n",
    "\n",
    "probabilities = end_to_end_model.predict(\n",
    "    [[\"Hi, how are you doing today?\"]]\n",
    ")\n",
    "\n",
    "class_names[np.argmax(probabilities[0])]"
   ]
  },
  {
   "cell_type": "markdown",
   "metadata": {},
   "source": [
    "### No lo he probado en el chatbot, para hacer pruebas usar el módulo de arriba"
   ]
  },
  {
   "cell_type": "markdown",
   "metadata": {},
   "source": [
    "# CHATBOT TEST"
   ]
  },
  {
   "cell_type": "code",
   "execution_count": 83,
   "metadata": {},
   "outputs": [],
   "source": [
    "def chatbot():\n",
    "    \n",
    "    input_text = input()\n",
    "    \n",
    "    test = pd.DataFrame(data = {'Sentence': [input_text]})\n",
    "    df_test_proc, test_proc = processing(test, cv = cv)\n",
    "    scipy.sparse.csr_matrix.sort_indices(test_proc)\n",
    "    \n",
    "    gret_prob = mlp_greeting.predict(test_proc)\n",
    "    search_prob = mlp_search.predict(test_proc)\n",
    "    sugg_prob = mlp_suggestion.predict(test_proc)\n",
    "    farewell_prob = mlp_farewell.predict(test_proc)\n",
    "    \n",
    "    probs = [gret_prob, search_prob, sugg_prob, farewell_prob]\n",
    "    print(probs)\n",
    "    idx = np.argmax(probs)\n",
    "    \n",
    "    if idx == 0:\n",
    "        print(\"Esto es un saludo\")\n",
    "    elif idx == 1:\n",
    "        print(\"Esto es una búsqueda\")\n",
    "    elif idx == 2:\n",
    "        print(\"Esto es una sugerencia\")\n",
    "    else:\n",
    "        print(\"Esto es una despedida\")\n",
    "        \n",
    "#     print('¿Hemos acertado?')\n",
    "    \n",
    "#     respuesta = input()\n",
    "#     if (respuesta == 'No' or respuesta == 'no'):\n",
    "#         probs = np.delete(probs, idx)\n",
    "#         idx_2 = np.argmax(probs)\n",
    "        \n",
    "#         if idx == 0:\n",
    "#             if idx_2 == 0:\n",
    "#                 print(\"Esto es una búsqueda\")\n",
    "#             else:\n",
    "#                 print(\"Esto es una sugerencia\")\n",
    "#         elif idx == 1:\n",
    "#             if idx_2 == 0:\n",
    "#                 print(\"Esto es un saludo\")\n",
    "#             else:\n",
    "#                 print(\"Esto es una sugerencia\")\n",
    "#         else:\n",
    "#             if idx_2 == 0:\n",
    "#                 print(\"Esto es un saludo\")\n",
    "#             else:\n",
    "#                 print(\"Esto es una búsqueda\")\n",
    "#     else:\n",
    "#         print('¡Genial! ¡Hemos acertado!')\n",
    "    "
   ]
  },
  {
   "cell_type": "code",
   "execution_count": 96,
   "metadata": {
    "scrolled": true
   },
   "outputs": [
    {
     "name": "stdout",
     "output_type": "stream",
     "text": [
      "hi\n",
      "[array([[0.8040894]], dtype=float32), array([[0.00038779]], dtype=float32), array([[3.612887e-05]], dtype=float32), array([[0.00043699]], dtype=float32)]\n",
      "Esto es un saludo\n"
     ]
    }
   ],
   "source": [
    "chatbot()"
   ]
  },
  {
   "cell_type": "code",
   "execution_count": 81,
   "metadata": {},
   "outputs": [
    {
     "name": "stdout",
     "output_type": "stream",
     "text": [
      "hi\n",
      "[array([[0.7962549]], dtype=float32), array([[0.01487446]], dtype=float32), array([[0.0009267]], dtype=float32), array([[4.4460567e-06]], dtype=float32)]\n",
      "Esto es un saludo\n"
     ]
    }
   ],
   "source": [
    "chatbot()"
   ]
  },
  {
   "cell_type": "code",
   "execution_count": null,
   "metadata": {},
   "outputs": [],
   "source": [
    "chatbot()"
   ]
  },
  {
   "cell_type": "code",
   "execution_count": null,
   "metadata": {},
   "outputs": [],
   "source": [
    "chatbot()"
   ]
  },
  {
   "cell_type": "markdown",
   "metadata": {},
   "source": [
    "* Correctamente\n",
    " * La mayoría de saludos\n",
    " * I want to know about Data Science (búsqueda)\n",
    " * I want to know things connected to la Sagrada Familia (sugerencia)\n",
    " * Watcha doing'? (saludo)\n",
    " * Tell me things related to Data Science (sugerencia)\n",
    "\n",
    "* Incorrectamente\n",
    " * What is Data Science (sugerencia)\n",
    " * Tell me things related to Napoleon (saludo)\n",
    " * Who is Cristobal Colon (saludo)\n",
    "\n"
   ]
  },
  {
   "cell_type": "code",
   "execution_count": null,
   "metadata": {},
   "outputs": [],
   "source": [
    "chatbot()"
   ]
  },
  {
   "cell_type": "markdown",
   "metadata": {},
   "source": [
    "* Opciones\n",
    " * Mostrar un comando *!options* que te de las opciones para hacer.\n",
    " * Detectar un intent\n",
    " * Mostrarlo al inicio\n",
    "\n",
    "\n",
    "* Headers\n",
    " * Dar las opciones una vez se detecta intent de búsqueda búsqueda\n",
    "   * *What is data science?* Y mostrarle los heades para qué elija qué queire saber \n",
    " * Intent nuevo de header"
   ]
  },
  {
   "cell_type": "code",
   "execution_count": null,
   "metadata": {},
   "outputs": [],
   "source": [
    "chatbot()"
   ]
  },
  {
   "cell_type": "code",
   "execution_count": null,
   "metadata": {},
   "outputs": [],
   "source": [
    "def Intent_detection_function(keyboard):\n",
    "    gret_prob = mlp_greeting.predict_proba(test_proc)\n",
    "    search_prob = mlp_search.predict_proba(test_proc)\n",
    "    sugg_prob = mlp_suggestion.predict_proba(test_proc)\n",
    "    farewell_prob = mlp_farewell.predict_proba(test_proc)\n",
    "    cv = joblib.load(\"vectorizer.pkl\")\n",
    "\n",
    "\n",
    "    input_text = pd.DataFrame(data={'Sentence': [keyboard]})\n",
    "    _, test_proc = cv.transform(input_text['Sentence'])\n",
    "    #df_test_proc, test_proc = processing(test, cv=cv)\n",
    "\n",
    "    test_proc = test_proc.toarray()\n",
    "\n",
    "    gret_prob = mlp_greeting.predict(test_proc)\n",
    "\n",
    "    search_prob = mlp_search.predict(test_proc)\n",
    "    sugg_prob = mlp_suggestion.predict(test_proc)\n",
    "    fare_prob = mlp_farewell.predict(test_proc)\n",
    "\n",
    "\n",
    "    probs = [gret_prob, search_prob, sugg_prob, fare_prob]\n",
    "    print(probs)\n",
    "    idx = np.argmax(probs)\n",
    "\n",
    "    if idx == 0:\n",
    "        intent = \"Greeting\"\n",
    "        keyword = None\n",
    "    elif idx == 1:\n",
    "        intent = \"Search\"\n",
    "        keyword = getEntities(keyboard)\n",
    "    elif idx == 2:\n",
    "        intent = \"Suggestions\"\n",
    "        keyword = getEntities(keyboard)\n",
    "    elif idx == 3:\n",
    "        intent = \"Farewell\"\n",
    "        keyword = None\n",
    "\n",
    "    return intent, keyword"
   ]
  },
  {
   "cell_type": "code",
   "execution_count": null,
   "metadata": {},
   "outputs": [],
   "source": [
    "Intent_detection_function()"
   ]
  }
 ],
 "metadata": {
  "kernelspec": {
   "display_name": "Python 3",
   "language": "python",
   "name": "python3"
  },
  "language_info": {
   "codemirror_mode": {
    "name": "ipython",
    "version": 3
   },
   "file_extension": ".py",
   "mimetype": "text/x-python",
   "name": "python",
   "nbconvert_exporter": "python",
   "pygments_lexer": "ipython3",
   "version": "3.6.5"
  }
 },
 "nbformat": 4,
 "nbformat_minor": 2
}
