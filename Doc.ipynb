{
 "cells": [
  {
   "cell_type": "markdown",
   "metadata": {},
   "source": [
    "### Smartbot"
   ]
  },
  {
   "cell_type": "markdown",
   "metadata": {},
   "source": [
    "La idea inicial era crear un chatbot que pudiera responder al usuario sus dudas acerca de cualquier tema de forma concreta y resumida, esto es, que no sólo recuperara y mostrara la información, si no también la sintetizara.\n",
    "\n",
    "Por problemas de coordinación y tiempo no se ha podido abordar la parte del resumen y sólo hemos creado un chatbot que, mediante NLU, entiende no sólo el tema que quiere el usuario, si no qué está pidiendo (dentro de un rango pre establecido).\n",
    "\n",
    "Para el modelo de NLU se ha utilizado, como métrica princiapl, la precisión. Sin embargo, no nos hemos fiado sólo de esa métrica, si no que; una vez entrenado el modelo, hemos realizado diferentes pruebas \n"
   ]
  },
  {
   "cell_type": "code",
   "execution_count": null,
   "metadata": {},
   "outputs": [],
   "source": []
  }
 ],
 "metadata": {
  "kernelspec": {
   "display_name": "Python 3",
   "language": "python",
   "name": "python3"
  },
  "language_info": {
   "codemirror_mode": {
    "name": "ipython",
    "version": 3
   },
   "file_extension": ".py",
   "mimetype": "text/x-python",
   "name": "python",
   "nbconvert_exporter": "python",
   "pygments_lexer": "ipython3",
   "version": "3.6.5"
  }
 },
 "nbformat": 4,
 "nbformat_minor": 2
}
