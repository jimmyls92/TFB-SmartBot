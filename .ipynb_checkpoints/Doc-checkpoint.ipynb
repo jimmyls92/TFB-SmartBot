{
 "cells": [
  {
   "cell_type": "markdown",
   "metadata": {},
   "source": [
    "### Smartbot"
   ]
  },
  {
   "cell_type": "markdown",
   "metadata": {},
   "source": [
    "#### Suposiciones iniciales\n",
    "\n",
    "La idea inicial era crear un chatbot que pudiera responder al usuario sus dudas acerca de cualquier tema de forma concreta y resumida, esto es, que no sólo recuperara y mostrara la información, si no también la sintetizara.\n",
    "\n",
    "Por problemas de coordinación y tiempo no se ha podido abordar la parte del resumen y sólo hemos creado un chatbot que, mediante NLU, entiende no sólo el tema que quiere el usuario, si no qué está pidiendo (dentro de un rango pre establecido)."
   ]
  },
  {
   "cell_type": "markdown",
   "metadata": {},
   "source": [
    "#### Métricas seleccionadas\n",
    "\n",
    "Para el modelo de NLU se ha utilizado, como métrica princiapl, la precisión. Sin embargo, no nos hemos fiado sólo de esa métrica, si no que; una vez entrenado el modelo, hemos realizado diferentes pruebas para ver qué *intents* fallaban más a menudo y por qué."
   ]
  },
  {
   "cell_type": "markdown",
   "metadata": {},
   "source": [
    "#### Arquitectura\n",
    "\n"
   ]
  },
  {
   "cell_type": "markdown",
   "metadata": {},
   "source": [
    "#### Métodos de ML utilizados\n",
    "\n",
    "Para el reconocimiento de intención del usuario, hemos probado diferentes métodos de NLU.\n",
    "Principalmente, aparte del ajuste de hiperparámetros y diferetes capas, hemos probado dos enfoques diferentes, uno que llevaba word embbedings y otro que no.\n",
    "\n",
    "\n",
    "\n",
    "* Modelo 1:\n",
    " * Tipo de algoritmo utilizado: Multilayer Perceptron de 5 capas\n",
    " * FUnción de coste: *binary crossentropy*\n",
    " * Características principales:\n",
    "  * Se ha generado un modelo por cada uno de los intents, después se calculaba la probabilidad de cada uno de esos modelos, y se elegía el que mayor probabilidad daba.\n",
    "\n",
    "<br>\n",
    "* Modelo 2:\n",
    " * Tipo de algoritmo utilizado: Red convolucional de 4 capas\n",
    " * Función de coste: *categorical crossentropy*\n",
    " * Características principales:\n",
    "  * Se ha generado un único modelo para todos los intents, con esto nos ahorrábamos entrenar modelos y mejoramos la precisión.\n",
    "  * Antes de entrenar el modelo, se añade una capa de embedding con un modelo GloVe pre-entrenado."
   ]
  },
  {
   "cell_type": "markdown",
   "metadata": {},
   "source": [
    "#### Lessons learned\n",
    "\n",
    "La forma de coordinar el proyecto, el reparto de tareas, demasiado optimismo en las estimaciones, tanto de tiempo dedicado como de tiempo para realizar la tarea"
   ]
  },
  {
   "cell_type": "markdown",
   "metadata": {},
   "source": [
    "#### Información obtenida del dataset\n",
    "\n",
    "Nuestro proyecto consta de dos datasetsdiferentes:\n",
    "\n",
    "* Un dataset creado por nosotros mismos con diferentes intents de los usuarios.\n",
    "* Una base de datos con los topics que van buscando los usuarios y la correspondiente información de Wikipedia, para poder acceder a ello más rápido que por la propia API de Wikipedia.\n",
    "\n",
    "<br>\n",
    "\n",
    "* La información que obtenemos de la base de datos depende de la intención del usuario, pudiendo ser, un resumen del artículo o, sugerencias al término buscado."
   ]
  },
  {
   "cell_type": "markdown",
   "metadata": {},
   "source": [
    "#### Conclusiones\n",
    "\n",
    "El proyecto entregado es un MPV, ni mucho menos lo que sería un producto final ya que hay que mejorar ciertos aspectos como puede ser, errores en los diferentes modelos (reconocimiento de entidades, reconocimiento de intención del usuario, etc)\n",
    "\n",
    "Aparte, hay diversas funcionalidades programadas para las siguientes versiones como pueden ser:\n",
    "* Preguntar al usuario si se ha acertado, y de no ser así, preguntarle por el *intent* y añadirlo a la base de datos para después re-entrenarlo cada cierto tiempo.\n",
    "* "
   ]
  },
  {
   "cell_type": "code",
   "execution_count": null,
   "metadata": {},
   "outputs": [],
   "source": []
  }
 ],
 "metadata": {
  "kernelspec": {
   "display_name": "Python 3",
   "language": "python",
   "name": "python3"
  },
  "language_info": {
   "codemirror_mode": {
    "name": "ipython",
    "version": 3
   },
   "file_extension": ".py",
   "mimetype": "text/x-python",
   "name": "python",
   "nbconvert_exporter": "python",
   "pygments_lexer": "ipython3",
   "version": "3.6.5"
  }
 },
 "nbformat": 4,
 "nbformat_minor": 2
}
